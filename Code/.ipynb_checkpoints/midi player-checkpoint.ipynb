{
 "cells": [
  {
   "cell_type": "code",
   "execution_count": 11,
   "metadata": {},
   "outputs": [],
   "source": [
    "from music21 import midi\n",
    "import pretty_midi\n",
    "import os"
   ]
  },
  {
   "cell_type": "code",
   "execution_count": 12,
   "metadata": {
    "collapsed": true
   },
   "outputs": [],
   "source": [
    "def playMidi(filename):\n",
    "    mf = midi.MidiFile()\n",
    "    mf.open(filename)\n",
    "    mf.read()\n",
    "    mf.close()\n",
    "    s = midi.translate.midiFileToStream(mf)\n",
    "    s.show('midi')"
   ]
  },
  {
   "cell_type": "code",
   "execution_count": 28,
   "metadata": {},
   "outputs": [],
   "source": [
    "def get_filenames(midifiles_dir):\n",
    "    midi_root = midifiles_dir\n",
    "    directories = []\n",
    "    for filename in os.listdir(midi_root):\n",
    "        if isinstance(filename, pretty_midi.PrettyMIDI):\n",
    "            path = os.path.join(midi_root, filename)\n",
    "            midis = pretty_midi.PrettyMIDI(path)\n",
    "            directories.append(midis)\n",
    "        else:\n",
    "            try:\n",
    "                path = os.path.join(midi_root, filename)\n",
    "                directories.append(path)\n",
    "            except:\n",
    "                continue\n",
    "    return directories"
   ]
  },
  {
   "cell_type": "code",
   "execution_count": 30,
   "metadata": {},
   "outputs": [
    {
     "data": {
      "text/plain": [
       "[\"./Snoop_Dogg_-_Ain't_Nothing_Personal_Acoustic Grand Piano_2.mid\",\n",
       " \"./Snoop_Dogg_-_Ain't_Nothing_Personal_Acoustic Grand Piano_0.mid\",\n",
       " './PUZZLE_Acoustic Guitar (steel)_10.mid',\n",
       " \"./Snoop_Dogg_-_Ain't_Nothing_Personal_Acoustic Grand Piano_4.mid\",\n",
       " './PUZZLE_Bright Acoustic Piano_8.mid',\n",
       " \"./Snoop_Dogg_-_Ain't_Nothing_Personal_Acoustic Grand Piano_3.mid\",\n",
       " './50_cent-candy_shop_Melodic Tom_7.mid',\n",
       " './PUZZLE_Electric Piano 1_13.mid',\n",
       " './50_cent-candy_shop_Cello_4.mid',\n",
       " './50_cent-candy_shop_Woodblock_8.mid',\n",
       " './50_cent-candy_shop_Acoustic Grand Piano_6.mid',\n",
       " './PUZZLE_Synth Choir_16.mid',\n",
       " './dataset.ipynb',\n",
       " './50_cent-candy_shop_Synth Strings 1_3.mid',\n",
       " './PUZZLE_Seashore_18.mid',\n",
       " \"./Snoop_Dogg_-_Ain't_Nothing_Personal_Acoustic Grand Piano_1.mid\",\n",
       " \"./Snoop_Dogg_-_Ain't_Nothing_Personal_Acoustic Grand Piano_7.mid\",\n",
       " './PUZZLE_Church Organ_15.mid',\n",
       " './midi player.ipynb',\n",
       " \"./Snoop_Dogg_-_Ain't_Nothing_Personal_Acoustic Grand Piano_6.mid\",\n",
       " './PUZZLE_Baritone Sax_3.mid',\n",
       " './PUZZLE_Bagpipe_7.mid',\n",
       " './PUZZLE_Brass Section_4.mid',\n",
       " './PUZZLE_Lead 2 (sawtooth)_17.mid',\n",
       " './unroll',\n",
       " './.ipynb_checkpoints',\n",
       " './50_cent-candy_shop_String Ensemble 2_2.mid',\n",
       " './50_cent-candy_shop_Flute_1.mid',\n",
       " './PUZZLE_String Ensemble 1_11.mid',\n",
       " \"./Snoop_Dogg_-_Ain't_Nothing_Personal_Acoustic Grand Piano_5.mid\",\n",
       " './50_cent-candy_shop_Kalimba_5.mid',\n",
       " './PUZZLE_Lead 2 (sawtooth)_1.mid',\n",
       " './PUZZLE_Rock Organ_9.mid',\n",
       " './PUZZLE_Marimba_12.mid',\n",
       " './PUZZLE_Synth Bass 2_0.mid',\n",
       " './50_cent-candy_shop_Synth Strings 1_0.mid',\n",
       " './magenta',\n",
       " './PUZZLE_Brass Section_5.mid',\n",
       " './PUZZLE_Clarinet_2.mid',\n",
       " './PUZZLE_Shanai_6.mid',\n",
       " './PUZZLE_Electric Guitar (muted)_14.mid']"
      ]
     },
     "execution_count": 30,
     "metadata": {},
     "output_type": "execute_result"
    }
   ],
   "source": [
    "filename = get_filenames('./')\n",
    "get_filenames('./')"
   ]
  },
  {
   "cell_type": "code",
   "execution_count": 34,
   "metadata": {},
   "outputs": [
    {
     "name": "stdout",
     "output_type": "stream",
     "text": [
      "./Snoop_Dogg_-_Ain't_Nothing_Personal_Acoustic Grand Piano_2.mid\n"
     ]
    },
    {
     "data": {
      "text/html": [
       "\n",
       "                <div id='midiPlayerDiv77056'></div>\n",
       "                <link rel=\"stylesheet\" href=\"http://artusi.xyz/music21j/css/m21.css\"\n",
       "                    type=\"text/css\" />\n",
       "                <script>\n",
       "                require.config({\n",
       "                    paths: {'music21': 'http://artusi.xyz/music21j/src/music21'}\n",
       "                });\n",
       "                require(['music21'], function() {\n",
       "                               mp = new music21.miditools.MidiPlayer();\n",
       "                               mp.addPlayer('#midiPlayerDiv77056');\n",
       "                               mp.base64Load('data:audio/midi;base64,TVRoZAAAAAYAAQABBABNVHJrAAAYGQD/AwVQaWFubwDAAADgAEAAwAAA/1EDB6EgAP9YBAQCGAi0AJAoZIJVgCgAgyuQKGSCAJArWlWAKACCAIArAIMrkCtkggCAKwAAkC1aglWALQCDK5AtZIIAgC0AgSuQLmSCAIAuAIJVkC5fggCALgCBK5ApZIpVgCkAAJAoZIJVgCgAglaQKGSCVYAoAACQK1qCVYArAIMrkCtkggCAKwAAkC1aglWALQCDK5AtZIIAgC0AAJAuZIIAgC4AhACQLl+CAIAuAACQKWSKVYApAIErkChkglWAKACDK5AoZIIAkCtaVYAoAIIAgCsAgyuQK2SCAIArAACQLVqCVYAtAIMrkC1kggCALQCBK5AuZIIAgC4AglWQLl+CAIAuAIErkClkilWAKQAAkChkglWAKACCVpAoZIJVgCgAAJArWoJVgCsAgyuQK2SCAIArAACQLVqCVYAtAIMrkC1kggCALQAAkC5kggCALgCEAJAuX4IAgC4AAJApZIpVgCkAgSuQKGSCVYAoAIMrkChkggCQK1pVgCgAggCAKwCDK5ArZIIAgCsAAJAtWoJVgC0AgyuQLWSCAIAtAIErkC5kggCALgCCVZAuX4IAgC4AgSuQKWSKVYApAACQKGSCVYAoAIJWkChkglWAKAAAkCtaglWAKwCDK5ArZIIAgCsAAJAtWoJVgC0AgyuQLWSCAIAtAACQLmSCAIAuAIQAkC5fggCALgAAkClkilWAKQCBK5AoZIJVgCgAgyuQKGSCAJArWlWAKACCAIArAIMrkCtkggCAKwAAkC1aglWALQCDK5AtZIIAgC0AAJAuZIIAgC4AhACQLl+CAIAuAIErkClkilWAKQAAkChkglWAKACCVpAoZIJVgCgAAJArWoJVgCsAglaQK2SCAIArAFWQLVqCVYAtAIMrkC1kggCALQAAkC5kggCALgCEAJAuX4IAgC4AAJApZIpVgCkAgSuQKGSCVYAoAIMrkChkggCQK1pVgCgAggCAKwCDK5ArZIIAgCsAAJAtWoJVgC0AgyuQLWSCAIAtAACQLmSCAIAuAIQAkC5fggCALgCBK5ApZIpVgCkAAJAoZIJVgCgAglaQKGSCVYAoAACQK1qCVYArAIJWkCtkggCAKwBVkC1aglWALQCDK5AtZIIAgC0AAJAuZIIAgC4AhACQLl+CAIAuAACQKWSKVYApAIErkChkglWAKACDK5AoZIIAkCtaVYAoAIIAgCsAgyuQK2SCAIArAACQLVqCVYAtAIMrkC1kggCALQAAkC5kggCALgCEAJAuX4IAgC4AgSuQKWSKVYApAACQKGSCVYAoAIJWkChkglWAKAAAkCtaglWAKwCCVpArZIIAgCsAVZAtWoJVgC0AgyuQLWSCAIAtAACQLmSCAIAuAIQAkC5fggCALgAAkClkilWAKQCBK5AoZIJVgCgAgyuQKGSCAJArWlWAKACCAIArAIMrkCtkggCAKwAAkC1aglWALQCDK5AtZIIAgC0AAJAuZIIAgC4AhACQLl+CAIAuAIErkClkilWAKQAAkChkglWAKACCVpAoZIJVgCgAAJArWoJVgCsAglaQK2SCAIArAFWQLVqCVYAtAIMrkC1kggCALQAAkC5kggCALgCEAJAuX4IAgC4AAJApZIpVgCkAgSuQKGSCVYAoAIMrkChkggCQK1pVgCgAggCAKwCDK5ArZIIAgCsAAJAtWoJVgC0AgyuQLWSCAIAtAACQLmSCAIAuAIQAkC5fggCALgCBK5ApZIpVgCkAAJAoZIJVgCgAglaQKGSCVYAoAACQK1qCVYArAIJWkCtkggCAKwBVkC1aglWALQCDK5AtZIIAgC0AAJAuZIIAgC4AhACQLl+CAIAuAACQKWSKVYApAIErkChkglWAKACDK5AoZIIAkCtaVYAoAIIAgCsAgyuQK2SCAIArAACQLVqCVYAtAIMrkC1kggCALQAAkC5kggCALgCEAJAuX4IAgC4AgSuQKWSKVYApAACQKGSCVYAoAIJWkChkglWAKAAAkCtaglWAKwCCVpArZIIAgCsAVZAtWoJVgC0AgyuQLWSCAIAtAACQLmSCAIAuAIQAkC5fggCALgAAkClkilWAKQCBK5AoZIJVgCgAgyuQKGSCAJArWlWAKACCAIArAIMrkCtkggCAKwAAkC1aglWALQCDK5AtZIIAgC0AAJAuZIIAgC4AhACQLl+CAIAuAIErkClkilWAKQAAkChkglWAKACCVpAoZIJVgCgAAJArWoJVgCsAglaQK2SCAIArAFWQLVqCVYAtAIMrkC1kggCALQAAkC5kggCALgCEAJAuX4IAgC4AAJApZIpVgCkAgSuQKGSCVYAoAIMrkChkggCQK1pVgCgAggCAKwCDK5ArZIIAgCsAAJAtWoJVgC0AgyuQLWSCAIAtAACQLmSCAIAuAIQAkC5fggCALgCBK5ApZIpVgCkAAJAoZIJVgCgAglaQKGSCVYAoAACQK1qCVYArAIJWkCtkggCAKwBVkC1aglWALQCDK5AtZIIAgC0AAJAuZIIAgC4AhACQLl+CAIAuAACQKWSKVYApAIErkChkglWAKACDK5AoZIIAkCtaVYAoAIIAgCsAgyuQK2SCAIArAACQLVqCVYAtAIMrkC1kggCALQAAkC5kggCALgCEAJAuX4IAgC4AgSuQKWSKVYApAACQKGSCVYAoAIJWkChkglWAKAAAkCtaglWAKwCCVpArZIIAgCsAVZAtWoJVgC0AgyuQLWSCAIAtAACQLmSCAIAuAIQAkC5fggCALgAAkClkilWAKQCBK5AoZIJVgCgAgyuQKGSCAJArWlWAKACCAIArAIMrkCtkggCAKwAAkC1aglWALQCDK5AtZIIAgC0AAJAuZIIAgC4AhACQLl+CAIAuAACQKWSKVYApAIErkChkglWAKACCVpAoZIJVgCgAAJArWoJVgCsAglaQK2SCAIArAFWQLVqCVYAtAIJWkC1kggCALQBVkC5kggCALgCEAJAuX4IAgC4AAJApZIpVgCkAgSuQKGSCVYAoAIMrkChkggCQK1pVgCgAggCAKwCDK5ArZIIAgCsAAJAtWoJVgC0AgyuQLWSCAIAtAACQLmSCAIAuAIQAkC5fggCALgAAkClkilWAKQCBK5AoZIJVgCgAglaQKGSCVYAoAACQK1qCVYArAIJWkCtkggCAKwBVkC1aglWALQCCVpAtZIIAgC0AVZAuZIIAgC4AhACQLl+CAIAuAACQKWSKVYApAIErkChkglWAKACDK5AoZIIAkCtaVYAoAIIAgCsAgyuQK2SCAIArAACQLVqCVYAtAIMrkC1kggCALQAAkC5kggCALgCEAJAuX4IAgC4AAJApZIpVgCkAgSuQKGSCVYAoAIJWkChkglWAKAAAkCtaglWAKwCCVpArZIIAgCsAVZAtWoJVgC0AglaQLWSCAIAtAFWQLmSCAIAuAIQAkC5fggCALgAAkClkilWAKQCBK5AoZIJVgCgAgyuQKGSCAJArWlWAKACCAIArAIMrkCtkggCAKwAAkC1aglWALQCDK5AtZIIAgC0AAJAuZIIAgC4AhACQLl+CAIAuAACQKWSKVYApAIErkChkglWAKACCVpAoZIJVgCgAAJArWoJVgCsAglaQK2SCAIArAFWQLVqCVYAtAIJWkC1kggCALQBVkC5kggCALgCEAJAuX4IAgC4AAJApZIpVgCkAgSuQKGSCVYAoAIMrkChkggCQK1pVgCgAggCAKwCDK5ArZIIAgCsAAJAtWoJVgC0AgyuQLWSCAIAtAACQLmSCAIAuAIQAkC5fggCALgAAkClkilWAKQCBK5AoZIJVgCgAglaQKGSCVYAoAACQK1qCVYArAIJWkCtkggCAKwBVkC1aglWALQCCVpAtZIIAgC0AVZAuZIIAgC4AhACQLl+CAIAuAACQKWSKVYApAIErkChkglWAKACDK5AoZIIAkCtaVYAoAIIAgCsAgyuQK2SCAIArAACQLVqCVYAtAIMrkC1kggCALQAAkC5kggCALgCEAJAuX4IAgC4AAJApZIpVgCkAgSuQKGSCVYAoAIJWkChkglWAKAAAkCtaglWAKwCCVpArZIIAgCsAVZAtWoJVgC0AglaQLWSCAIAtAFWQLmSCAIAuAIQAkC5fggCALgAAkClkilWAKQCBK5AoZIJVgCgAgSuQKGSCVYAoAIErkCtaglWAKwCDK5ArZIIAgCsAAJAtWoJVgC0AgyuQLWSCAIAtAACQLmSCAIAuAIQAkC5fggCALgAAkClkilWAKQCBK5AoZIJVgCgAglaQKGSCVYAoAACQK1qCVYArAIJWkCtkggCAKwBVkC1aglWALQCCVpAtZIIAgC0AVZAuZIIAgC4AhACQLl+CAIAuAACQKWSKVYApAIErkChkglWAKACBK5AoZIJVgCgAgSuQK1qCVYArAIMrkCtkggCAKwAAkC1aglWALQCDK5AtZIIAgC0AAJAuZIIAgC4AhACQLl+CAIAuAACQKWSKVYApAIErkChkglWAKACCVpAoZIJVgCgAAJArWoJVgCsAglaQK2SCAIArAFWQLVqCVYAtAIJWkC1kggCALQBVkC5kggCALgCEAJAuX4IAgC4AAJApZIpVgCkAgSuQKGSCVYAoAIErkChkglWAKACBK5ArWoJVgCsAgyuQK2SCAIArAACQLVqCVYAtAIMrkC1kggCALQAAkC5kggCALgCEAJAuX4IAgC4AAJApZIpVgCkAgSuQKGSCVYAoAIJWkChkglWAKAAAkCtaglWAKwCCVpArZIIAgCsAVZAtWoJVgC0AglaQLWSCAIAtAFWQLmSCAIAuAIQAkC5fggCALgAAkClkilWAKQCBK5AoZIJVgCgAgSuQKGSCVYAoAIErkCtaglWAKwCDK5ArZIIAgCsAAJAtWoJVgC0AgyuQLWSCAIAtAACQLmSCAIAuAIQAkC5fggCALgAAkClkilWAKQCBK5AoZIJVgCgAglaQKGSCVYAoAACQK1qCVYArAIJWkCtkggCAKwBVkC1aglWALQCCVpAtZIIAgC0AVZAuZIIAgC4AgyuQLl+CAIAuAFWQKWSKVYApAIGwAJAoZIJVgCgAglaQKGSCVYAoAIErkCtaglWAKwCDK5ArZIIAgCsAAJAtWoJVgC0AgyuQLWSCAIAtAACQLmSCAIAuAIQAkC5fggCALgAAkClkilWAKQCBK5AoZIJVgCgAglaQKGSCVYAoAACQK1qCVYArAIJWkCtkggCAKwBVkC1aglWALQCCVpAtZIIAgC0AVZAuZIIAgC4AgyuQLl+CAIAuAFWQKWSKVYApAACQKGSCVYAoAIJWkChkglWAKACBK5ArWoJVgCsAgyuQK2SCAIArAACQLVqCVYAtAIMrkC1kggCALQAAkC5kggCALgCEAJAuX4IAgC4AAJApZIpVgCkAgSuQKGSCVYAoAIJWkChkglWAKAAAkCtaglWAKwCCVpArZIIAgCsAVZAtWoJVgC0AglaQLWSCAIAtAFWQLmSCAIAuAIMrkC5fggCALgBVkClkilWAKQAAkChkglWAKACCVpAoZIJVgCgAgSuQK1qCVYArAIMrkCtkggCAKwAAkC1aglWALQCDK5AtZIIAgC0AAJAuZIIAgC4AhACQLl+CAIAuAACQKWSKVYApAIErkChkglWAKACCVpAoZIJVgCgAAJArWoJVgCsAglaQK2SCAIArAFWQLVqCVYAtAIJWkC1kggCALQBVkC5kggCALgCDK5AuX4IAgC4AVZApZIpVgCkAAJAoZIJVgCgAglaQKGSCVYAoAIErkCtaglWAKwCBK5ArZIIAgCsAggCQLVqCVYAtAIMrkC1kggCALQAAkC5kggCALgCEAJAuX4IAgC4AAJApZIpVgCkAgSuQKGSCVYAoAIJWkChkglWAKAAAkCtaglWAKwCCVpArZIIAgCsAVZAtWoJVgC0AglaQLWSCAIAtAFWQLmSCAIAuAIMrkC5fggCALgBVkClkilWAKQAAkChkglWAKACCVpAoZIJVgCgAgSuQK1qCVYArAIErkCtkggCAKwCCAJAtWoJVgC0AgyuQLWSCAIAtAACQLmSCAIAuAIQAkC5fggCALgAAkClkilWAKQCBK5AoZIJVgCgAglaQKGSCVYAoAACQK1qCVYArAIJWkCtkggCAKwBVkC1aglWALQCCVpAtZIIAgC0AVZAuZIIAgC4AgyuQLl+CAIAuAFWQKWSKVYApAACQKGSCVYAoAIJWkChkglWAKACBK5ArWoJVgCsAgSuQK2SCAIArAIIAkC1aglWALQCDK5AtZIIAgC0AAJAuZIIAgC4AhACQLl+CAIAuAACQKWSKVYApAIErkChkglWAKACBK5AoZIJVgCgAgSuQK1qCVYArAIJWkCtkggCAKwBVkC1aglWALQCCVpAtZIIAgC0AVZAuZIIAgC4AgyuQLl+CAIAuAFWQKWSKVYApAACQKGSCVYAoAIJWkChkglWAKACBK5ArWoJVgCsAgSuQK2SCAIArAIIAkC1aglWALQCDK5AtZIIAgC0AAJAuZIIAgC4AhACQLl+CAIAuAACQKWSKVYApAIErkChkglWAKACBK5AoZIJVgCgAgSuQK1qCVYArAIJWkCtkggCAKwBVkC1aglWALQCCVpAtZIIAgC0AVZAuZIIAgC4AgyuQLl+CAIAuAFWQKWSKVYApAIGFK5AoZIJVgCgAgSuQKGSCVYAoAIErkCtaglWAKwCCVpArZIIAgCsAVZAtWoJVgC0AglaQLWSCAIAtAFWQLmSCAIAuAIMrkC5fggCALgBVkClkilWAKQAAkChkglWAKACCVpAoZIJVgCgAAJArWoJVgCsAglaQK2SCAIArAIIAkC1aglWALQCDK5AtZIIAgC0AAJAuZIIAgC4AhACQLl+CAIAuAACQKWSKVYApAIErkChkglWAKACBK5AoZIJVgCgAgSuQK1qCVYArAIJWkCtkggCAKwBVkC1aglWALQCCVpAtZIIAgC0AVZAuZIIAgC4AgyuQLl+CAIAuAFWQKWSKVYApAACQKGSCVYAoAIJWkChkglWAKAAAkCtaglWAKwCCVpArZIIAgCsAggCQLVqCVYAtAIMrkC1kggCALQAAkC5kggCALgCEAJAuX4IAgC4AAJApZIpVgCkAgSuQKGSCVYAoAIErkChkglWAKACBK5ArWoJVgCsAglaQK2SCAIArAFWQLVqCVYAtAIJWkC1kggCALQBVkC5kggCALgCDK5AuX4IAgC4AVZApZIpVgCkAAJAoZIJVgCgAglaQKGSCVYAoAACQK1qCVYArAIJWkCtkggCAKwCCAJAtWoJVgC0AgyuQLWSCAIAtAACQLmSCAIAuAIQAkC5fggCALgAAkClkilWAKQCBK5AoZIJVgCgAgSuQKGSCVYAoAIErkCtaglWAKwCCVpArZIIAgCsAVZAtWoJVgC0AglaQLWSCAIAtAFWQLmSCAIAuAIMrkC5fggCALgBVkClkilWAKQAAkChkglWAKACCVpAoZIJVgCgAAJArWoJVgCsAglaQK2SCAIArAIIAkC1aglWALQCBK5AtZIIAgC0AggCQLmSCAIAuAIQAkC5fggCALgAAkClkigCQKGRVgCkAggCAKACDK5AoZIJVgCgAgSuQK1qCVYArAIJWkCtkggCAKwBVkC1aglWALQCCVpAtZIIAgC0AVZAuZIIAgC4AgyuQLl+CAIAuAFWQKWSKVYApAACQKGSCVYAoAIJWkChkglWAKAAAkCtaglWAKwCCVpArZIIAgCsAggCQLVqCVYAtAIErkC1kggCALQCCAJAuZIIAgC4AhACQLl+CAIAuAACQKWSKAJAoZFWAKQCCAIAoAIMrkChkglWAKACBK5ArWoJVgCsAglaQK2SCAIArAFWQLVqCVYAtAIJWkC1kggCALQBVkC5kggCALgCDK5AuX4IAgC4AVZApZIpVgCkAAJAoZIJVgCgAglaQKGSCVYAoAACQK1qCVYArAIJWkCtkggCAKwCCAJAtWoJVgC0AgSuQLWSCAIAtAIIAkC5kggCALgCEAJAuX4IAgC4AAJApZIoAkChkVYApAIIAgCgAgyuQKGSCVYAoAIErkCtaglWAKwCBK5ArZIIAgCsAggCQLVqCVYAtAIJWkC1kggCALQBVkC5kggCALgCDK5AuX4IAgC4AVZApZIpVgCkAiAD/LwA=');\n",
       "                        });\n",
       "                </script>"
      ],
      "text/plain": [
       "<IPython.core.display.HTML object>"
      ]
     },
     "metadata": {},
     "output_type": "display_data"
    },
    {
     "name": "stdout",
     "output_type": "stream",
     "text": [
      "./Snoop_Dogg_-_Ain't_Nothing_Personal_Acoustic Grand Piano_0.mid\n"
     ]
    },
    {
     "data": {
      "text/html": [
       "\n",
       "                <div id='midiPlayerDiv78309'></div>\n",
       "                <link rel=\"stylesheet\" href=\"http://artusi.xyz/music21j/css/m21.css\"\n",
       "                    type=\"text/css\" />\n",
       "                <script>\n",
       "                require.config({\n",
       "                    paths: {'music21': 'http://artusi.xyz/music21j/src/music21'}\n",
       "                });\n",
       "                require(['music21'], function() {\n",
       "                               mp = new music21.miditools.MidiPlayer();\n",
       "                               mp.addPlayer('#midiPlayerDiv78309');\n",
       "                               mp.base64Load('data:audio/midi;base64,TVRoZAAAAAYAAQABBABNVHJrAAAC+gD/AwVQaWFubwDAAADgAEAAwAAA/1EDB6EgAP9YBAQCGAi0AJA1cYJVgDUAzSuQOWSEAIA5AIQAkDVxglWANQDNK5A5ZIQAgDkAhACQNXGCVYA1AM0rkDlkhACAOQCEAJA1cYJVgDUAzSuQOWSEAIA5AIQAkDVxglWANQDNK5A5ZIQAgDkAhACQNXGCVYA1AM0rkDlkhACAOQCEAJA1cYJVgDUAzSuQOWSEAIA5AIQAkDVxglWANQDNK5A5ZIQAgDkAhACQNXGCVYA1AM0rkDlkhACAOQCEAJA1cYJVgDUAgaUrkDlkhACAOQCEAJA1cYJVgDUAzSuQOWSEAIA5AIQAkDVxglWANQDNK5A5ZIQAgDkAhACQNXGCVYA1AM0rkDlkhACAOQCEAJA1cYJVgDUAzACQOWSEAIA5AIUrkDVxglWANQDMAJA5ZIQAgDkAhSuQNXGCVYA1AMwAkDlkhACAOQCFK5A1cYJVgDUAgaQAkDlkhACAOQCFK5A1cYJVgDUAzACQOWSEAIA5AIUrkDVxglWANQDMAJA5ZIQAgDkAhSuQNXGCVYA1AMwAkDlkhACAOQCFK5A1cYJVgDUAzACQOWSEAIA5AIUrkDVxglWANQDMAJA5ZIQAgDkAhACQNXGCVYA1AM0rkDlkhACAOQCEAJA1cYJVgDUAzSuQOWSEAIA5AIQAkDVxglWANQDNK5A5ZIQAgDkAhACQNXGCVYA1AM0rkDlkhACAOQCEAJA1cYJVgDUAzSuQOWSEAIA5AIQAkDVxglWANQDNK5A5ZIQAgDkAhACQNXGCVYA1AM0rkDlkhACAOQCEAJA1cYJVgDUAzSuQOWSEAIA5AIQAkDVxglWANQCBpSuQOWSEAIA5AIQAkDVxglWANQDNK5A5ZIQAgDkAhACQNXGCVYA1AM0rkDlkhACAOQCEAJA1cYJVgDUAzSuQOWSEAIA5AIQAkDVxglWANQDNK5A5ZIQAgDkAhACQNXGCVYA1AM0rkDlkhACAOQCIAP8vAA==');\n",
       "                        });\n",
       "                </script>"
      ],
      "text/plain": [
       "<IPython.core.display.HTML object>"
      ]
     },
     "metadata": {},
     "output_type": "display_data"
    },
    {
     "name": "stdout",
     "output_type": "stream",
     "text": [
      "./PUZZLE_Acoustic Guitar (steel)_10.mid\n"
     ]
    },
    {
     "ename": "KeyboardInterrupt",
     "evalue": "",
     "output_type": "error",
     "traceback": [
      "\u001b[0;31m---------------------------------------------------------------------------\u001b[0m",
      "\u001b[0;31mKeyboardInterrupt\u001b[0m                         Traceback (most recent call last)",
      "\u001b[0;32m<ipython-input-34-4f976eec4838>\u001b[0m in \u001b[0;36m<module>\u001b[0;34m()\u001b[0m\n\u001b[1;32m      1\u001b[0m \u001b[0;32mfor\u001b[0m \u001b[0mi\u001b[0m \u001b[0;32min\u001b[0m \u001b[0mrange\u001b[0m\u001b[0;34m(\u001b[0m\u001b[0;36m10\u001b[0m\u001b[0;34m)\u001b[0m\u001b[0;34m:\u001b[0m\u001b[0;34m\u001b[0m\u001b[0m\n\u001b[1;32m      2\u001b[0m     \u001b[0mprint\u001b[0m\u001b[0;34m(\u001b[0m\u001b[0mfilename\u001b[0m\u001b[0;34m[\u001b[0m\u001b[0mi\u001b[0m\u001b[0;34m]\u001b[0m\u001b[0;34m)\u001b[0m\u001b[0;34m\u001b[0m\u001b[0m\n\u001b[0;32m----> 3\u001b[0;31m     \u001b[0mplayMidi\u001b[0m\u001b[0;34m(\u001b[0m\u001b[0mfilename\u001b[0m\u001b[0;34m[\u001b[0m\u001b[0mi\u001b[0m\u001b[0;34m]\u001b[0m\u001b[0;34m)\u001b[0m\u001b[0;34m\u001b[0m\u001b[0m\n\u001b[0m",
      "\u001b[0;32m<ipython-input-12-5a61e88dfa30>\u001b[0m in \u001b[0;36mplayMidi\u001b[0;34m(filename)\u001b[0m\n\u001b[1;32m      4\u001b[0m     \u001b[0mmf\u001b[0m\u001b[0;34m.\u001b[0m\u001b[0mread\u001b[0m\u001b[0;34m(\u001b[0m\u001b[0;34m)\u001b[0m\u001b[0;34m\u001b[0m\u001b[0m\n\u001b[1;32m      5\u001b[0m     \u001b[0mmf\u001b[0m\u001b[0;34m.\u001b[0m\u001b[0mclose\u001b[0m\u001b[0;34m(\u001b[0m\u001b[0;34m)\u001b[0m\u001b[0;34m\u001b[0m\u001b[0m\n\u001b[0;32m----> 6\u001b[0;31m     \u001b[0ms\u001b[0m \u001b[0;34m=\u001b[0m \u001b[0mmidi\u001b[0m\u001b[0;34m.\u001b[0m\u001b[0mtranslate\u001b[0m\u001b[0;34m.\u001b[0m\u001b[0mmidiFileToStream\u001b[0m\u001b[0;34m(\u001b[0m\u001b[0mmf\u001b[0m\u001b[0;34m)\u001b[0m\u001b[0;34m\u001b[0m\u001b[0m\n\u001b[0m\u001b[1;32m      7\u001b[0m     \u001b[0ms\u001b[0m\u001b[0;34m.\u001b[0m\u001b[0mshow\u001b[0m\u001b[0;34m(\u001b[0m\u001b[0;34m'midi'\u001b[0m\u001b[0;34m)\u001b[0m\u001b[0;34m\u001b[0m\u001b[0m\n",
      "\u001b[0;32m~/anaconda2/envs/tensorflow3/lib/python3.5/site-packages/music21/midi/translate.py\u001b[0m in \u001b[0;36mmidiFileToStream\u001b[0;34m(mf, inputM21, quantizePost, **keywords)\u001b[0m\n\u001b[1;32m   2091\u001b[0m                             \u001b[0mquantizePost\u001b[0m\u001b[0;34m=\u001b[0m\u001b[0mquantizePost\u001b[0m\u001b[0;34m,\u001b[0m\u001b[0;34m\u001b[0m\u001b[0m\n\u001b[1;32m   2092\u001b[0m                             \u001b[0minputM21\u001b[0m\u001b[0;34m=\u001b[0m\u001b[0ms\u001b[0m\u001b[0;34m,\u001b[0m\u001b[0;34m\u001b[0m\u001b[0m\n\u001b[0;32m-> 2093\u001b[0;31m                             **keywords)\n\u001b[0m\u001b[1;32m   2094\u001b[0m         \u001b[0;31m#s._setMidiTracks(mf.tracks, mf.ticksPerQuarterNote)\u001b[0m\u001b[0;34m\u001b[0m\u001b[0;34m\u001b[0m\u001b[0m\n\u001b[1;32m   2095\u001b[0m \u001b[0;34m\u001b[0m\u001b[0m\n",
      "\u001b[0;32m~/anaconda2/envs/tensorflow3/lib/python3.5/site-packages/music21/midi/translate.py\u001b[0m in \u001b[0;36mmidiTracksToStreams\u001b[0;34m(midiTracks, ticksPerQuarter, quantizePost, inputM21, **keywords)\u001b[0m\n\u001b[1;32m   1852\u001b[0m             \u001b[0mstreamPart\u001b[0m \u001b[0;34m=\u001b[0m \u001b[0mstream\u001b[0m\u001b[0;34m.\u001b[0m\u001b[0mPart\u001b[0m\u001b[0;34m(\u001b[0m\u001b[0;34m)\u001b[0m \u001b[0;31m# create a part instance for each part\u001b[0m\u001b[0;34m\u001b[0m\u001b[0m\n\u001b[1;32m   1853\u001b[0m             midiTrackToStream(mt, ticksPerQuarter, quantizePost,\n\u001b[0;32m-> 1854\u001b[0;31m                               inputM21=streamPart, **keywords)\n\u001b[0m\u001b[1;32m   1855\u001b[0m \u001b[0;31m#             streamPart._setMidiTracksPart(mt,\u001b[0m\u001b[0;34m\u001b[0m\u001b[0;34m\u001b[0m\u001b[0m\n\u001b[1;32m   1856\u001b[0m \u001b[0;31m#                 ticksPerQuarter=ticksPerQuarter, quantizePost=quantizePost)\u001b[0m\u001b[0;34m\u001b[0m\u001b[0;34m\u001b[0m\u001b[0m\n",
      "\u001b[0;32m~/anaconda2/envs/tensorflow3/lib/python3.5/site-packages/music21/midi/translate.py\u001b[0m in \u001b[0;36mmidiTrackToStream\u001b[0;34m(mt, ticksPerQuarter, quantizePost, inputM21, **keywords)\u001b[0m\n\u001b[1;32m   1632\u001b[0m                    \u001b[0mprocessOffsets\u001b[0m\u001b[0;34m=\u001b[0m\u001b[0;32mTrue\u001b[0m\u001b[0;34m,\u001b[0m\u001b[0;34m\u001b[0m\u001b[0m\n\u001b[1;32m   1633\u001b[0m                    \u001b[0mprocessDurations\u001b[0m\u001b[0;34m=\u001b[0m\u001b[0;32mTrue\u001b[0m\u001b[0;34m,\u001b[0m\u001b[0;34m\u001b[0m\u001b[0m\n\u001b[0;32m-> 1634\u001b[0;31m                    inPlace=True)\n\u001b[0m\u001b[1;32m   1635\u001b[0m \u001b[0;34m\u001b[0m\u001b[0m\n\u001b[1;32m   1636\u001b[0m     \u001b[0;32mif\u001b[0m \u001b[0mvoicesRequired\u001b[0m\u001b[0;34m:\u001b[0m\u001b[0;34m\u001b[0m\u001b[0m\n",
      "\u001b[0;32m~/anaconda2/envs/tensorflow3/lib/python3.5/site-packages/music21/stream/__init__.py\u001b[0m in \u001b[0;36mquantize\u001b[0;34m(self, quarterLengthDivisors, processOffsets, processDurations, inPlace, recurse)\u001b[0m\n\u001b[1;32m   8214\u001b[0m         \u001b[0museStreams\u001b[0m \u001b[0;34m=\u001b[0m \u001b[0;34m[\u001b[0m\u001b[0mreturnStream\u001b[0m\u001b[0;34m]\u001b[0m\u001b[0;34m\u001b[0m\u001b[0m\n\u001b[1;32m   8215\u001b[0m         \u001b[0;32mif\u001b[0m \u001b[0mrecurse\u001b[0m \u001b[0;32mis\u001b[0m \u001b[0;32mTrue\u001b[0m\u001b[0;34m:\u001b[0m\u001b[0;34m\u001b[0m\u001b[0m\n\u001b[0;32m-> 8216\u001b[0;31m             \u001b[0;32mfor\u001b[0m \u001b[0mobj\u001b[0m \u001b[0;32min\u001b[0m \u001b[0mreturnStream\u001b[0m\u001b[0;34m.\u001b[0m\u001b[0mrecurse\u001b[0m\u001b[0;34m(\u001b[0m\u001b[0;34m)\u001b[0m\u001b[0;34m:\u001b[0m\u001b[0;34m\u001b[0m\u001b[0m\n\u001b[0m\u001b[1;32m   8217\u001b[0m                 \u001b[0;32mif\u001b[0m \u001b[0;34m'Stream'\u001b[0m \u001b[0;32min\u001b[0m \u001b[0mobj\u001b[0m\u001b[0;34m.\u001b[0m\u001b[0mclasses\u001b[0m\u001b[0;34m:\u001b[0m\u001b[0;34m\u001b[0m\u001b[0m\n\u001b[1;32m   8218\u001b[0m                     \u001b[0museStreams\u001b[0m\u001b[0;34m.\u001b[0m\u001b[0mappend\u001b[0m\u001b[0;34m(\u001b[0m\u001b[0mobj\u001b[0m\u001b[0;34m)\u001b[0m\u001b[0;34m\u001b[0m\u001b[0m\n",
      "\u001b[0;32m~/anaconda2/envs/tensorflow3/lib/python3.5/site-packages/music21/stream/iterator.py\u001b[0m in \u001b[0;36m__next__\u001b[0;34m(self)\u001b[0m\n\u001b[1;32m   1405\u001b[0m \u001b[0;34m\u001b[0m\u001b[0m\n\u001b[1;32m   1406\u001b[0m             \u001b[0;32mif\u001b[0m \u001b[0mself\u001b[0m\u001b[0;34m.\u001b[0m\u001b[0mrestoreActiveSites\u001b[0m \u001b[0;32mis\u001b[0m \u001b[0;32mTrue\u001b[0m\u001b[0;34m:\u001b[0m\u001b[0;34m\u001b[0m\u001b[0m\n\u001b[0;32m-> 1407\u001b[0;31m                 \u001b[0me\u001b[0m\u001b[0;34m.\u001b[0m\u001b[0mactiveSite\u001b[0m \u001b[0;34m=\u001b[0m \u001b[0mself\u001b[0m\u001b[0;34m.\u001b[0m\u001b[0msrcStream\u001b[0m\u001b[0;34m\u001b[0m\u001b[0m\n\u001b[0m\u001b[1;32m   1408\u001b[0m \u001b[0;34m\u001b[0m\u001b[0m\n\u001b[1;32m   1409\u001b[0m \u001b[0;34m\u001b[0m\u001b[0m\n",
      "\u001b[0;32m~/anaconda2/envs/tensorflow3/lib/python3.5/site-packages/music21/base.py\u001b[0m in \u001b[0;36m_setActiveSite\u001b[0;34m(self, site)\u001b[0m\n\u001b[1;32m   2077\u001b[0m         \u001b[0;32mif\u001b[0m \u001b[0msite\u001b[0m \u001b[0;32mis\u001b[0m \u001b[0;32mnot\u001b[0m \u001b[0;32mNone\u001b[0m\u001b[0;34m:\u001b[0m\u001b[0;34m\u001b[0m\u001b[0m\n\u001b[1;32m   2078\u001b[0m             \u001b[0;32mtry\u001b[0m\u001b[0;34m:\u001b[0m\u001b[0;34m\u001b[0m\u001b[0m\n\u001b[0;32m-> 2079\u001b[0;31m                 \u001b[0mstoredOffset\u001b[0m \u001b[0;34m=\u001b[0m \u001b[0msite\u001b[0m\u001b[0;34m.\u001b[0m\u001b[0melementOffset\u001b[0m\u001b[0;34m(\u001b[0m\u001b[0mself\u001b[0m\u001b[0;34m)\u001b[0m\u001b[0;34m\u001b[0m\u001b[0m\n\u001b[0m\u001b[1;32m   2080\u001b[0m             \u001b[0;32mexcept\u001b[0m \u001b[0mSitesException\u001b[0m\u001b[0;34m:\u001b[0m\u001b[0;34m\u001b[0m\u001b[0m\n\u001b[1;32m   2081\u001b[0m                 raise SitesException(\"v2.1. -- you may not assign an activesite for \" +\n",
      "\u001b[0;32m~/anaconda2/envs/tensorflow3/lib/python3.5/site-packages/music21/stream/__init__.py\u001b[0m in \u001b[0;36melementOffset\u001b[0;34m(self, element, stringReturns)\u001b[0m\n\u001b[1;32m   1610\u001b[0m                     (id(element), self))\n\u001b[1;32m   1611\u001b[0m \u001b[0;34m\u001b[0m\u001b[0m\n\u001b[0;32m-> 1612\u001b[0;31m         \u001b[0;32mif\u001b[0m \u001b[0mstringReturns\u001b[0m \u001b[0;32mis\u001b[0m \u001b[0;32mFalse\u001b[0m \u001b[0;32mand\u001b[0m \u001b[0mo\u001b[0m \u001b[0;32min\u001b[0m \u001b[0;34m(\u001b[0m\u001b[0;34m'highestTime'\u001b[0m\u001b[0;34m,\u001b[0m \u001b[0;34m'lowestOffset'\u001b[0m\u001b[0;34m,\u001b[0m \u001b[0;34m'highestOffset'\u001b[0m\u001b[0;34m)\u001b[0m\u001b[0;34m:\u001b[0m\u001b[0;34m\u001b[0m\u001b[0m\n\u001b[0m\u001b[1;32m   1613\u001b[0m             \u001b[0;32mtry\u001b[0m\u001b[0;34m:\u001b[0m\u001b[0;34m\u001b[0m\u001b[0m\n\u001b[1;32m   1614\u001b[0m                 \u001b[0;32mreturn\u001b[0m \u001b[0mgetattr\u001b[0m\u001b[0;34m(\u001b[0m\u001b[0mself\u001b[0m\u001b[0;34m,\u001b[0m \u001b[0mo\u001b[0m\u001b[0;34m)\u001b[0m\u001b[0;34m\u001b[0m\u001b[0m\n",
      "\u001b[0;32m~/anaconda2/envs/tensorflow3/lib/python3.5/fractions.py\u001b[0m in \u001b[0;36m__eq__\u001b[0;34m(a, b)\u001b[0m\n\u001b[1;32m    593\u001b[0m         \u001b[0;32mif\u001b[0m \u001b[0mtype\u001b[0m\u001b[0;34m(\u001b[0m\u001b[0mb\u001b[0m\u001b[0;34m)\u001b[0m \u001b[0;32mis\u001b[0m \u001b[0mint\u001b[0m\u001b[0;34m:\u001b[0m\u001b[0;34m\u001b[0m\u001b[0m\n\u001b[1;32m    594\u001b[0m             \u001b[0;32mreturn\u001b[0m \u001b[0ma\u001b[0m\u001b[0;34m.\u001b[0m\u001b[0m_numerator\u001b[0m \u001b[0;34m==\u001b[0m \u001b[0mb\u001b[0m \u001b[0;32mand\u001b[0m \u001b[0ma\u001b[0m\u001b[0;34m.\u001b[0m\u001b[0m_denominator\u001b[0m \u001b[0;34m==\u001b[0m \u001b[0;36m1\u001b[0m\u001b[0;34m\u001b[0m\u001b[0m\n\u001b[0;32m--> 595\u001b[0;31m         \u001b[0;32mif\u001b[0m \u001b[0misinstance\u001b[0m\u001b[0;34m(\u001b[0m\u001b[0mb\u001b[0m\u001b[0;34m,\u001b[0m \u001b[0mnumbers\u001b[0m\u001b[0;34m.\u001b[0m\u001b[0mRational\u001b[0m\u001b[0;34m)\u001b[0m\u001b[0;34m:\u001b[0m\u001b[0;34m\u001b[0m\u001b[0m\n\u001b[0m\u001b[1;32m    596\u001b[0m             return (a._numerator == b.numerator and\n\u001b[1;32m    597\u001b[0m                     a._denominator == b.denominator)\n",
      "\u001b[0;31mKeyboardInterrupt\u001b[0m: "
     ]
    }
   ],
   "source": [
    "for i in range(10):\n",
    "    print(filename[i])\n",
    "    playMidi(filename[i])"
   ]
  },
  {
   "cell_type": "code",
   "execution_count": null,
   "metadata": {
    "collapsed": true
   },
   "outputs": [],
   "source": []
  }
 ],
 "metadata": {
  "kernelspec": {
   "display_name": "Python 3",
   "language": "python",
   "name": "python3"
  },
  "language_info": {
   "codemirror_mode": {
    "name": "ipython",
    "version": 3
   },
   "file_extension": ".py",
   "mimetype": "text/x-python",
   "name": "python",
   "nbconvert_exporter": "python",
   "pygments_lexer": "ipython3",
   "version": "3.5.4"
  }
 },
 "nbformat": 4,
 "nbformat_minor": 2
}
