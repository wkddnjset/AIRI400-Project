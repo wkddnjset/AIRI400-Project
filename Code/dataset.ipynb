{
 "cells": [
  {
   "cell_type": "markdown",
   "metadata": {},
   "source": [
    "- pip install music21"
   ]
  },
  {
   "cell_type": "code",
   "execution_count": 89,
   "metadata": {},
   "outputs": [],
   "source": [
    "from unroll.KeyStrikes import KeyStrikes\n",
    "import music21\n",
    "import numpy as np\n",
    "import os.path\n",
    "import math\n",
    "import matplotlib.pyplot as plt"
   ]
  },
  {
   "cell_type": "code",
   "execution_count": 13,
   "metadata": {
    "collapsed": true
   },
   "outputs": [],
   "source": [
    "path_midifile = \"./Midi/PUZZLE.mid\""
   ]
  },
  {
   "cell_type": "markdown",
   "metadata": {},
   "source": [
    "## Midi파일 불러오기\n",
    "midi -> music32 stream -> midi<br>\n",
    "mf 파일의 ticksperQuarterNote 를 1024 기준으로 바꿔주기"
   ]
  },
  {
   "cell_type": "code",
   "execution_count": 14,
   "metadata": {
    "collapsed": true
   },
   "outputs": [],
   "source": [
    "mf = music21.midi.MidiFile()\n",
    "# path_midifile = path_data + '/' + filename\n",
    "mf.open(path_midifile)\n",
    "mf.read()\n",
    "mf.close()"
   ]
  },
  {
   "cell_type": "code",
   "execution_count": 15,
   "metadata": {
    "collapsed": true
   },
   "outputs": [],
   "source": [
    "s = music21.midi.translate.midiFileToStream(mf)\n",
    "mf = music21.midi.translate.streamToMidiFile(s)"
   ]
  },
  {
   "cell_type": "code",
   "execution_count": 16,
   "metadata": {},
   "outputs": [
    {
     "data": {
      "text/plain": [
       "<music21.stream.Score 0x7f95c4839b00>"
      ]
     },
     "execution_count": 16,
     "metadata": {},
     "output_type": "execute_result"
    }
   ],
   "source": [
    "s"
   ]
  },
  {
   "cell_type": "markdown",
   "metadata": {},
   "source": [
    "#### 트랙별 루프를 돌면서 note 정보 읽기"
   ]
  },
  {
   "cell_type": "code",
   "execution_count": 17,
   "metadata": {},
   "outputs": [],
   "source": [
    "result = []\n",
    "for i in range(len(mf.tracks)):\n",
    "    t = 0\n",
    "    for e in mf.tracks[i].events:\n",
    "        if e.isDeltaTime() and e.time is not None:\n",
    "            t += e.time\n",
    "        elif e.isNoteOn() and e.pitch is not None and e.velocity != 0:\n",
    "            result.append({'time': t, 'note': e.pitch})"
   ]
  },
  {
   "cell_type": "markdown",
   "metadata": {},
   "source": [
    "#### duration을 가질수 있도록 list로 변환"
   ]
  },
  {
   "cell_type": "code",
   "execution_count": 23,
   "metadata": {},
   "outputs": [
    {
     "data": {
      "text/plain": [
       "<unroll.KeyStrikes.KeyStrikes at 0x7f95c1a160b8>"
      ]
     },
     "execution_count": 23,
     "metadata": {},
     "output_type": "execute_result"
    }
   ],
   "source": [
    "ks = KeyStrikes(result)\n",
    "ks = ks.quantized(mf.ticksPerQuarterNote)\n",
    "ks"
   ]
  },
  {
   "cell_type": "code",
   "execution_count": 64,
   "metadata": {},
   "outputs": [],
   "source": [
    "# tick 간격 = 1/8분 음표 단위로\n",
    "tick_step = mf.ticksPerQuarterNote / 2\n",
    "# 총 tick 카운트\n",
    "total_tick = ks.keystrikes[-1]['time'] + ks.keystrikes[-1]['duration'] * mf.ticksPerQuarterNote\n",
    "# 총 sequence 갯수\n",
    "total_beat = total_tick / tick_step"
   ]
  },
  {
   "cell_type": "code",
   "execution_count": 60,
   "metadata": {},
   "outputs": [],
   "source": [
    "# 하나의 midi 파일의 one hot vector 를 저장할 임시 matrix\n",
    "data_dim = 129\n",
    "one_X_train = np.zeros((math.ceil(total_beat + 1), data_dim), dtype='int32')"
   ]
  },
  {
   "cell_type": "code",
   "execution_count": 86,
   "metadata": {},
   "outputs": [],
   "source": [
    "# 1024 기준으로 convert 된 건반 정보를 루프를 돌면서 디코딩\n",
    "for strike in ks.keystrikes:\n",
    "    # 1/8 음표 단위의 index\n",
    "    idx = math.ceil(strike['time'] / tick_step)\n",
    "    # 1/8 음표 단위 기준 note 의 지속시간 (index 를 몇개 채울거니? 를 계산)\n",
    "    dur = int(strike['duration'] * 2)\n",
    "    # note 별로 one-hot vector 채우기\n",
    "    for note in strike['note']:\n",
    "        # 지속시간 만큼 making\n",
    "        for i in range(dur):\n",
    "            one_X_train[idx + i, note] = 1"
   ]
  },
  {
   "cell_type": "code",
   "execution_count": 87,
   "metadata": {},
   "outputs": [],
   "source": [
    "note_dim = 128\n",
    "one_X_train[-1, note_dim] = 1"
   ]
  },
  {
   "cell_type": "code",
   "execution_count": 95,
   "metadata": {},
   "outputs": [
    {
     "data": {
      "image/png": "[encoded data removed]",
      "text/plain": [
       "<matplotlib.figure.Figure at 0x7f95c1322160>"
      ]
     },
     "metadata": {
      "image/png": {
       "height": 263,
       "width": 387
      }
     },
     "output_type": "display_data"
    }
   ],
   "source": [
    "plt.plot(one_X_train[100])\n",
    "plt.xlabel('note')\n",
    "plt.ylabel('time')\n",
    "plt.show()"
   ]
  },
  {
   "cell_type": "code",
   "execution_count": 83,
   "metadata": {},
   "outputs": [
    {
     "data": {
      "text/plain": [
       "array([0, 0, 0, 0, 0, 0, 0, 0, 0, 0, 0, 0, 0, 0, 0, 0, 0, 0, 0, 0, 0, 0, 0,\n",
       "       0, 0, 0, 0, 0, 0, 0, 0, 0, 0, 0, 0, 0, 0, 0, 0, 0, 0, 0, 0, 0, 0, 0,\n",
       "       0, 0, 0, 0, 0, 0, 0, 0, 0, 0, 0, 0, 0, 0, 0, 0, 0, 0, 0, 0, 0, 0, 0,\n",
       "       0, 0, 0, 0, 0, 0, 0, 0, 0, 0, 0, 0, 0, 0, 0, 0, 0, 0, 0, 0, 0, 0, 0,\n",
       "       0, 0, 0, 0, 0, 0, 0, 0, 0, 0, 0, 0, 0, 0, 0, 0, 0, 0, 0, 0, 0, 0, 0,\n",
       "       0, 0, 0, 0, 0, 0, 0, 0, 0, 0, 0, 0, 0, 0], dtype=int32)"
      ]
     },
     "execution_count": 83,
     "metadata": {},
     "output_type": "execute_result"
    }
   ],
   "source": []
  },
  {
   "cell_type": "code",
   "execution_count": null,
   "metadata": {
    "collapsed": true
   },
   "outputs": [],
   "source": []
  }
 ],
 "metadata": {
  "kernelspec": {
   "display_name": "Python 3",
   "language": "python",
   "name": "python3"
  },
  "language_info": {
   "codemirror_mode": {
    "name": "ipython",
    "version": 3
   },
   "file_extension": ".py",
   "mimetype": "text/x-python",
   "name": "python",
   "nbconvert_exporter": "python",
   "pygments_lexer": "ipython3",
   "version": "3.5.4"
  }
 },
 "nbformat": 4,
 "nbformat_minor": 2
}
